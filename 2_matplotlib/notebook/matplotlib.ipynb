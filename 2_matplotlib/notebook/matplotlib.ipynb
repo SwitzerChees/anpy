{
 "cells": [
  {
   "cell_type": "markdown",
   "metadata": {},
   "source": [
    "| Autor | Patrick Michel |\n",
    "| ------ | ------ |\n",
    "| Schule | FFHS - Fernfachhochschule Schweiz |\n",
    "| ------ | ------ |\n",
    "| Semester | 6. |\n",
    "|------|------|\n",
    "| Fach | AnPy, Analysis mit Python, BSc INF 2017 Pas, BE1-I, FS20, Geuss Markus |"
   ]
  },
  {
   "cell_type": "markdown",
   "metadata": {},
   "source": [
    "# Inhaltsverzeichnis\n",
    "\n",
    "* Einführung\n",
    "* Aufgabenstellung\n",
    "* Systemanforderungen\n",
    "* Matplotlib\n",
    "* Funktionsgraphen\n",
    "* Balkendiagramme\n",
    "* Tortendiagramme\n",
    "* Tortendiagramme\n",
    "* Graphen\n",
    "* Reflexion\n",
    "* Verweise\n",
    "\n",
    "# Einführung\n",
    "\n",
    "In dieser Arbeit geht es um die Visualisierung von Daten mithilfe der Programmiersprache Python und einigen zusätzlichen Paketen unter anderm Matplotlib und Numpy.\n",
    "\n",
    "## Aufgabenstellung\n",
    "\n",
    "Erstellen Sie eine Beispielsammlung von verschiedenen Arten von Graphiken mit Matplotlib; es sollte je ein Beispiel der folgenden Diagrammtypen berücksichtigt werden:\n",
    "\n",
    "* Funktionsgraphen, \n",
    "* Mehrere Funktionsgraphen in der selben Graphik,\n",
    "* Balkendiagramme,\n",
    "* Tortendiagramme,\n",
    "* Histogramme.\n",
    "\n",
    "## Systemanforderungen\n",
    "\n",
    "Folgende Voraussetzungen muss die Jupyter Umgebung erfüllen um alle nachfolgenden Codebeispiele ausführen zu können.\n",
    "\n",
    "* Python 3.7.x, \n",
    "* Pip Packages,\n",
    "    * Matplotlib,\n",
    "    * NetworkX,\n",
    "    * Numpy\n",
    "    * SciPy\n",
    "    * requests\n",
    "    * json\n",
    "    \n",
    "# Matplotlib\n",
    "\n",
    "Matplotlib ist ein Paket für die Programmiersprache Python welche es ermöglicht, Daten aller Art auf verschiedenste Weisen graphisch darzustellen. Sie dient als eines der am weitesten verbreiteten Pakete für diesen Zweck im Python Ökosystem. Um die Bibliothek nutzen zu können muss sie zuerst installiert werden. Dies kann über den Paketmanager pip mit folgendem Komando ermöglicht werden:\n",
    "\n",
    "```console\n",
    "pip install matplotlib\n",
    "```\n",
    "\n",
    "## Numpy\n",
    "\n",
    "Numpy ist eine sehr beliebte Bibliothek für die Programmiersprache Python welche sehr oft in Kombination mit Matplotlib eingesetzt wird. Sie dient zur einfachen Handhabung von Vektoren, Matritzen und allgemein Arrays. Zusammen mit Matplotlib verfügt es über ein ähnliches Potential wie die Programmierpsrache *R*. Mit folgendem Befehl kann Numpy installiert werden:\n",
    "\n",
    "```console\n",
    "pip install numpy\n",
    "```\n",
    "\n",
    "Sobald die Pakete erfolgreich installiert wurden können sie mit folgendem Befehl importiert und genutzt werden."
   ]
  },
  {
   "cell_type": "code",
   "execution_count": 78,
   "metadata": {},
   "outputs": [],
   "source": [
    "import matplotlib.pyplot as plt\n",
    "import numpy as np\n",
    "import scipy.special\n",
    "import requests\n",
    "import json"
   ]
  },
  {
   "cell_type": "markdown",
   "metadata": {},
   "source": [
    "Um nachfolgend die Übersicht zu wahren wurden alle nötigen imports in die erste Sektion geholt. Für eine einfachere Handhabung wird der importierte pyplot der alias *plt* vergeben. Nachfolgend soll die grundlegende Funktionsweise anhand eines einfachen Beispiels verdeutlicht werden [2]."
   ]
  },
  {
   "cell_type": "code",
   "execution_count": 72,
   "metadata": {
    "scrolled": true
   },
   "outputs": [
    {
     "data": {
      "image/png": "[encoded data removed]",
      "text/plain": [
       "<Figure size 432x288 with 1 Axes>"
      ]
     },
     "metadata": {
      "needs_background": "light"
     },
     "output_type": "display_data"
    }
   ],
   "source": [
    "x = [1,2,3,4]\n",
    "y = [0.5,1,1.5,2]\n",
    "\n",
    "plt.plot(x, y)\n",
    "plt.show()"
   ]
  },
  {
   "cell_type": "markdown",
   "metadata": {},
   "source": [
    "## Funktionsgraphen\n",
    "\n",
    "Funktionsgraphen sind eine graphische Veranschaulichung von Funktionen und deren Input sowei Output. In der Informatik wird bei der Algorithmik viel von den sogenannten Laufzeitklassen gesprochen. Nachfolgend einige der gängigsten Laufzeitklassen aufsteigen sortiert nach der Laufzeit[3]:\n",
    "\n",
    "\\begin{equation}\n",
    "    \\mathcal{O}(1)\n",
    "\\end{equation}\n",
    "*Die Laufzeit ist immer 1*\n",
    "\n",
    "\n",
    "\\begin{equation}\n",
    "    \\mathcal{O}(log(n))\n",
    "\\end{equation}\n",
    "*Die Laufzeit ist der Logarithmus von n*\n",
    "\n",
    "\n",
    "\\begin{equation}\n",
    "    \\mathcal{O}(n)\n",
    "\\end{equation}\n",
    "*Die Laufzeit ist linear n*\n",
    "\n",
    "\n",
    "\\begin{equation}\n",
    "    \\mathcal{O}(n^2)\n",
    "\\end{equation}\n",
    "*Die Laufzeit ist quadratisch n*\n",
    "\n",
    "\n",
    "\\begin{equation}\n",
    "    \\mathcal{O}(n!)\n",
    "\\end{equation}\n",
    "*Die Laufzeit ist Fakultät n*\n",
    "\n",
    "Um diese Graphen und ihr unterschiedliches Wachstum zu verdeutlichen soll folgender Graph dienen."
   ]
  },
  {
   "cell_type": "code",
   "execution_count": 79,
   "metadata": {},
   "outputs": [
    {
     "data": {
      "image/png": "[encoded data removed]",
      "text/plain": [
       "<Figure size 432x288 with 1 Axes>"
      ]
     },
     "metadata": {
      "needs_background": "light"
     },
     "output_type": "display_data"
    }
   ],
   "source": [
    "# Erzeuge x Werte von 1 bis 10 in 0.1 Schritten für flachere Verlaufskurven\n",
    "x = np.arange(0, 10, 0.1)\n",
    "# Den Graphen und die Y-Achse beschriften\n",
    "plt.title('Vergleich - Laufzeitklassen')\n",
    "plt.ylabel('Laufzeit')\n",
    "plt.axis([0, 10, 0, 30])\n",
    "\n",
    "# Laufzeit 1\n",
    "plt.plot(x, np.full(len(x), 1), label='1', color='deepskyblue')\n",
    "# Laufzeit log(n)\n",
    "plt.plot(x, np.ma.log(x), label='log(n)', color='darkseagreen')\n",
    "# Laufzeit n\n",
    "plt.plot(x, x, label='n', color='green')\n",
    "# Laufzeit n^2\n",
    "plt.plot(x, x * x, label='n^2', color='orange')\n",
    "# Laufzeit n!\n",
    "plt.plot(x, scipy.special.factorial(x), label='n!', color='red')\n",
    "\n",
    "plt.legend()\n",
    "plt.show()"
   ]
  },
  {
   "cell_type": "markdown",
   "metadata": {},
   "source": [
    "Folgende Besonderheiten sind bei dem Erstellen des Funktionsgraphen aufgetreten:\n",
    "* Die Farben welche standardmässig verwendet werden sind zum Teil schwer zu unterscheiden. Daher hat jeder Plot eine aussagekräftige Farbe zugeteilt bekommen\n",
    "* Laufzeit 1: Dadurch, dass der Vektor mit 0 beginnt, kam es bei x/x zu einem Divided by Null Error. Konnte mit *np.full(len(x)* behoben werden\n",
    "* Laufzeit log(n): Auch wieder das gleiche Problem da log(0) nicht möglich ist. Konnte mit *np.ma.log(x)* maskiert und behoben werden\n",
    "* Laufzeit n!: Durch die extreme Steigerung musste der Plot auf den Achsen gefixt werden da man sonst nur noch die Laufzeit n! gesehen hätte"
   ]
  },
  {
   "cell_type": "markdown",
   "metadata": {},
   "source": [
    "## Balkendiagramme\n",
    "\n",
    "In diesem Abschnitt werden wir uns mit den Balkendiagrammen beschäftigen [4]. Diese Art von Diagrammen wird dazu eingesetzt, Gruppen von Entitäten zu vergleichen. Sei es Stimmen bei einer Wahl pro Kandidat oder in der aktuell andauernden Corona Pandemie der Vergleich von Fallzahlen von verschiedenen Ländern. Um dies zu veranschaulichen kommt nachfolgend ein Beispiel eines Balkendiagramms. Das Beispiel greift aktuelle Daten von einem REST Endpunkt ab und verarbeitet diese danach zu einem Balkendiagramm um die Fallzahlen pro Land zu vergleichen. "
   ]
  },
  {
   "cell_type": "code",
   "execution_count": 129,
   "metadata": {},
   "outputs": [
    {
     "data": {
      "image/png": "[encoded data removed]",
      "text/plain": [
       "<Figure size 432x288 with 1 Axes>"
      ]
     },
     "metadata": {
      "needs_background": "light"
     },
     "output_type": "display_data"
    }
   ],
   "source": [
    "# Titel und y-Achse beschriften\n",
    "plt.title('Vergleich - Fallzahlen COVID-19')\n",
    "plt.ylabel('Fallzahlen')\n",
    "\n",
    "countryfilter = ['Switzerland', 'Italy', 'China', 'Germany', 'USA']\n",
    "\n",
    "response = requests.get('https://coronavirus-19-api.herokuapp.com/countries')\n",
    "countries = json.loads(response.content)\n",
    "# JSON Hashtable filtern nach gesuchten Ländern\n",
    "countries = [c for c in countries if c['country'] in countryfilter]\n",
    "\n",
    "# Gefundene Länder absteigend sortieren\n",
    "countries.sort(key=lambda c: c['cases'], reverse=True)\n",
    "\n",
    "countrynames = [c['country'] for c in countries]\n",
    "countrycases = [c['cases'] for c in countries]\n",
    "\n",
    "plt.bar(countrynames, countrycases, alpha=0.6)\n",
    "\n",
    "plt.show()"
   ]
  },
  {
   "cell_type": "markdown",
   "metadata": {},
   "source": [
    "Folgende Besonderheiten sind bei dem Erstellen des Balkendiagramms aufgetreten:\n",
    "* Die Daten werden von einer API geholt und müssen danach noch entsprechend sortiert werden. Dies geschieht über eine Filterliste\n",
    "* Die Werte mussten noch sinnvoll absteigend sortiert werden"
   ]
  },
  {
   "cell_type": "markdown",
   "metadata": {},
   "source": [
    "## Historgramme\n",
    "\n",
    "In diesem Abschnitt geht es um Histogramme. Diese werden dazu verwendet um auftauchende Häufigkeiten zu visualisieren. Ein klassischer Anwendungsfall ist die Darstellung eines Wahrscheinlichkeitsmass wie zu Beispiel die Normalverteilung, Bernoulli-Verteilung, Binomialverteilung und verschiedene weitere. Wir werden in diesem Beispiel nun die sogenannte Gauss-Verteilung also die Normalverteilung anschauen. Diese ist sehr generell denn schlussendlich konvergieren praktisch alle Wahrscheinlichkeitsmasse früher oder später in einer Normalverteilung."
   ]
  },
  {
   "cell_type": "code",
   "execution_count": 130,
   "metadata": {},
   "outputs": [
    {
     "data": {
      "image/png": "[encoded data removed]",
      "text/plain": [
       "<Figure size 432x288 with 1 Axes>"
      ]
     },
     "metadata": {
      "needs_background": "light"
     },
     "output_type": "display_data"
    }
   ],
   "source": [
    "plt.title('Normalverteilung (Gauss-Verteilung)')\n",
    "plt.ylabel('Anzahl')\n",
    "\n",
    "samples = 100000\n",
    "histbins = int(samples * 0.01)\n",
    "\n",
    "gauss = np.random.normal(size=samples, loc=20)\n",
    "\n",
    "plt.hist(gauss, bins=histbins, alpha=0.6)\n",
    "plt.show()"
   ]
  },
  {
   "cell_type": "markdown",
   "metadata": {},
   "source": [
    "## Tortendiagramme"
   ]
  },
  {
   "cell_type": "markdown",
   "metadata": {},
   "source": [
    "## Graphen"
   ]
  },
  {
   "cell_type": "markdown",
   "metadata": {},
   "source": [
    "## Reflexion"
   ]
  },
  {
   "cell_type": "markdown",
   "metadata": {},
   "source": [
    "## Verweise\n",
    "\n",
    "* [1]: [https://github.com/adam-p/markdown-here/wiki/Markdown-Cheatsheet](https://github.com/adam-p/markdown-here/wiki/Markdown-Cheatsheet)\n",
    "* [2]: [https://pythonbasics.org/matplotlib-line-chart/](https://pythonbasics.org/matplotlib-line-chart/)\n",
    "* [3]: [https://de.wikipedia.org/wiki/Landau-Symbole](https://de.wikipedia.org/wiki/Landau-Symbole)\n",
    "* [4]: [https://bodo-schoenfeld.de/jupyter-notebook-balkendiagramm-erstellen/](https://bodo-schoenfeld.de/jupyter-notebook-balkendiagramm-erstellen/)"
   ]
  }
 ],
 "metadata": {
  "kernelspec": {
   "display_name": "Python 3",
   "language": "python",
   "name": "python3"
  },
  "language_info": {
   "codemirror_mode": {
    "name": "ipython",
    "version": 3
   },
   "file_extension": ".py",
   "mimetype": "text/x-python",
   "name": "python",
   "nbconvert_exporter": "python",
   "pygments_lexer": "ipython3",
   "version": "3.7.6"
  },
  "title": "2. Semesterarbeit - Grafiken mit Matplotlib & Python"
 },
 "nbformat": 4,
 "nbformat_minor": 4
}
