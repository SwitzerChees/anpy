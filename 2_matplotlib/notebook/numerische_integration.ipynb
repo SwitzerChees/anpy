{
 "cells": [
  {
   "cell_type": "markdown",
   "metadata": {},
   "source": [
    "| Autor       | Patrick Michel                                           |\n",
    "|-------------|----------------------------------------------------------|\n",
    "| 6. Semester | FFHS - Fernfachhochschule Schweiz                        |\n",
    "| Fach        | AnPy, Analysis mit Python, BSc INF 2017 Pas, BE1-I, FS20 |\n",
    "| Dozent      | Geuss Markus                                             |"
   ]
  },
  {
   "cell_type": "markdown",
   "metadata": {},
   "source": [
    "# Inhaltsverzeichnis\n",
    "\n",
    "* Einführung\n",
    "* Aufgabenstellung\n",
    "* Systemanforderungen\n",
    "* Riemann-Integral\n",
    "* Sehnentrapezregel\n",
    "* Tangententrapezregel\n",
    "* Simpsonsche Regel\n",
    "* Vermutung & Grenzwert\n",
    "* Genauigkeit der Approximationen\n",
    "* Reflexion & Einschätzung\n",
    "* Verweise"
   ]
  },
  {
   "cell_type": "markdown",
   "metadata": {},
   "source": [
    "# Einführung\n",
    "\n",
    "In dieser Arbeit geht es um das numerische Integrieren und somit Bestimmten von Flächen einer Funktion. Dies wird in einem theoretischen Teil beschrieben sowie exemplarisch mit der Programmiersprache Python umgesetzt."
   ]
  },
  {
   "cell_type": "markdown",
   "metadata": {},
   "source": [
    "## Aufgabenstellung\n",
    "\n",
    "1. Beschreiben Sie den Begriff des bestimmten Integrales.\n",
    "2. Beschreiben Sie die Sekantenzrapezregel, die Tangententrapezregel und die Simpsonsche Regel als Näherungsformel für zur Berechnung bestimmter Integrale.\n",
    "3. Erstellen Sie drei Python-Funktionen\n",
    "    * `sekanten_trapez_regel(f, a, b, n)`\n",
    "    * `tangenten_trapez_regel(f, a, b, n)`\n",
    "    * `simpson_regel(f, a, b, n)`\n",
    "    * zur Approximation des Integrals \n",
    "\\begin{equation}\n",
    "    \\int_{a}^{b} f(x)\\, dx\n",
    "\\end{equation}\n",
    "    * dabei steht n für die Anzahl Streifen (bzw Doppelstreifrn bei Simpson) in den Approximationen.\n",
    "4. Verwenden Sie die drei Approximationsregeln zur Bestimmung der folgenden Integrale (Varieren Sie dabei die Anzahl Streifen n):  \n",
    "    \n",
    "\\begin{equation}\n",
    "    \\int_{0}^{\\pi} sin(x)\\, dx\n",
    "\\end{equation}\n",
    "    \n",
    "\\begin{equation}\n",
    "    \\int_{-1}^{1} \\sqrt{1 - x^{2}}\\, dx\n",
    "\\end{equation}\n",
    "    \n",
    "\\begin{equation}\n",
    "    \\int_{0}^{1} x^{2}\\, dx\n",
    "\\end{equation}\n",
    "5. Stellen Sie Vermutungen auf, was beim Grenzwert n→∞ passiert.\n",
    "6. Überprüfen Sie Ihre Vermutungen mit Sympy.\n",
    "7. Vergleichen Sie die Genauigkeit der gemachten Approximationen."
   ]
  },
  {
   "cell_type": "markdown",
   "metadata": {},
   "source": [
    "## Systemanforderungen\n",
    "\n",
    "Folgende Voraussetzungen muss die Jupyter Umgebung erfüllen um alle nachfolgenden Codebeispiele ausführen zu können.\n",
    "\n",
    "* Python 3.7.x \n",
    "* Pip Packages\n",
    "    * Matplotlib\n",
    "    * Numpy\n",
    "    * SciPy\n",
    "    \n",
    "Um nachfolgend die Übersicht zu wahren wurden alle nötigen imports in die erste Sektion geholt. Für eine einfachere Handhabung wird der importierte pyplot der alias *plt* vergeben."
   ]
  },
  {
   "cell_type": "code",
   "execution_count": 1,
   "metadata": {},
   "outputs": [],
   "source": [
    "from IPython.display import display\n",
    "import matplotlib.pyplot as plt\n",
    "import pandas as pd\n",
    "import numpy as np"
   ]
  },
  {
   "cell_type": "markdown",
   "metadata": {},
   "source": [
    "## Riemann-Integral\n",
    "\n",
    "Das Riemann Integral ist eine mathematische Methode zur Veranschaulichung des Flächeninhaltes zwischen dem Abschnitt einer x-Achse und dem Graphen einer Funktion.\n",
    "\n",
    "![Riemann_Integral](img/riemann_integral.png)\n",
    "\n",
    "Das Grundprinzip beruht auf dem Prinzip der Annäherung. Es wird zuerst ein Bereich auf der x-Achse den es zu integrieren gibt definiert. Im obigen Beispiel ist dieser Bereich von a -> b. Danach werden n Punkte welche in einem gleichen Abstand auf dem Funktionsverlauf liegen genommen und aus diesen dann gleich grosse Rechtecke erstellt. Daraus ergibt sich nun eine mehr oder weniger genau Abdeckung der Fläche dieser Funktion. Um die Fläche nun zu bestimmen kann man die Flächen der einzelnen Rechtecke summieren. Je grösser nun n wird also je kleiner die einzelnen Rechtecke werden desto genauer wird das Resultat in Bezug auf die tatsächliche Fläche. Wenn mann n nun an ∞ also den Grenzwert annähert kommt schlussendlich der exakte Wert der Fläche heraus. Doch je grösser n ist desto aufwändiger wird natürlich auch die Berechnung für den Computer. Ein Integral von hand zu bestimmen und berechnen ist theoretisch möglich doch macht durch den schnell wachsenden Aufwand keinen Sinn. Daher kann man das gut den Computern überlassen."
   ]
  },
  {
   "cell_type": "markdown",
   "metadata": {},
   "source": [
    "## Approximationsregeln & Überprüfung\n",
    "\n",
    "Nachfolgend kommen nun verschiedene Implementationen von Formeln welche das Bestimmen der Fläche ermöglichen. Um diese vernünftig vergleichen zu können werden diese auf die in der Aufgabenstellung definierten Approximationsregeln angewendet. Auch werden die Resultate geplottet damit eine visuelle Veranschaulichung ermöglicht wird. Nachfolgend nun die Approximationsregeln zur Verwendung in Python und auch die Logik zur visuellen Darstellung:"
   ]
  },
  {
   "cell_type": "code",
   "execution_count": 183,
   "metadata": {},
   "outputs": [],
   "source": [
    "# Um die Implementation zu testen ist die Definition einer Funktion nötig\n",
    "# Als Beispiel nehmen wir die Fläche eines halben Einheitskreises da diese Fläche\n",
    "# auch ganz genau durch eine einfachere Formel bestimmt werden kann\n",
    "# was eine einfache Vergleichbarkeit ermöglicht\n",
    "# diese Funktion wird auch für die nachfolgenden Implementationen verwendet\n",
    "appr_circle = [-1, 1, lambda x: np.sqrt(-x**2 + r**2)]\n",
    "\n",
    "# Approximationen der Aufgabenstellung\n",
    "# Werden beim Vergleich verwendet\n",
    "appr_sin = [0, np.pi, lambda x: np.sin(x)]\n",
    "appr_sqrt = [-1, 1, lambda x: np.sqrt(1 - x**2)]\n",
    "appr_square = [0, 1, lambda x: x**2]"
   ]
  },
  {
   "cell_type": "code",
   "execution_count": 186,
   "metadata": {},
   "outputs": [
    {
     "data": {
      "image/png": "[encoded data removed]",
      "text/plain": [
       "<Figure size 432x288 with 1 Axes>"
      ]
     },
     "metadata": {
      "needs_background": "light"
     },
     "output_type": "display_data"
    },
    {
     "name": "stdout",
     "output_type": "stream",
     "text": [
      "[1.5185244144417758, 1.5691342555492505, 1.570743738501071]\n"
     ]
    }
   ],
   "source": [
    "n_to_test = [10, 100, 1000]\n",
    "\n",
    "def test_rules_by_appr(rules, appr, plot=True):\n",
    "    results = []\n",
    "    for rule in rules:\n",
    "        for n in n_to_test:\n",
    "            A, course = rule[1](appr[2], appr[0], appr[1], n)\n",
    "            if plot:\n",
    "                plt.plot(course[0], course[1], label=f'{rule[0]}: n={n}')\n",
    "            results.append(A)\n",
    "    if plot:\n",
    "        plt.legend()\n",
    "        plt.show()\n",
    "    return results\n",
    "\n",
    "results = test_rules_by_appr([['ST', sekanten_trapez_regel]], appr_circle)\n",
    "print(results)"
   ]
  },
  {
   "cell_type": "code",
   "execution_count": null,
   "metadata": {},
   "outputs": [],
   "source": [
    "# Werte für einen exakten Kreis\n",
    "# dient während der Entwicklung als Vergleichswert\n",
    "x = np.linspace(-r, r, 100000)\n",
    "y = [point(p) for p in x]"
   ]
  },
  {
   "cell_type": "markdown",
   "metadata": {},
   "source": [
    "## Sehnentrapezregel\n",
    "\n",
    "Bei der Sehnentrapezregel wird die Annäherung durch durch Trapeze umgesetzt.\n",
    "\n",
    "![Sehnen_Trapez_1](img/sehnentrapez_1.png)\n",
    "\n",
    "Der Flächeninhalt des Trapezes kann durch folgende Formel bestimmt werden:\n",
    "\n",
    "\\begin{equation}\n",
    "    ST_{1} = (b-a) * \\frac{f(a) + f(b)}{2}\n",
    "\\end{equation}\n",
    "\n",
    "Um nun die Fläche genauer zu bestimmen wird wie beim Riemann Integral der Bereich von a -> b in n Sehnentrapeze aufgeteilt. Um dann die gesamte Fläche zu bestimmen, wird wieder die Fläche jedes einzelnen Sehnentrapezes gerechnet und dann daraus die Summe gebildet. Dies kann je nach Funktion schon eine sehr gute Näherung im Vergleich zu Rechtecken bringen. Nachfolgend nun die allgemeine Sehnentrapezformel:\n",
    "\n",
    "\\begin{equation}\n",
    "    A = \\frac{b-a}{n}  * (\\frac{f(x_{0})}{2} + f(x_{1}) + f(x_{2})\\;+\\;...\\;+\\;\\frac{f(x_{n})}{2})\n",
    "\\end{equation}\n",
    "\n",
    "Nun folgt die Implementierung dieser Formel in Python."
   ]
  },
  {
   "cell_type": "code",
   "execution_count": 132,
   "metadata": {},
   "outputs": [],
   "source": [
    "def sekanten_trapez_regel(f, a, b, n):\n",
    "    A, x, y = 0, [], []\n",
    "    steps = (b - a) / n\n",
    "    for i in range(0, n + 1):\n",
    "        x.append(a + i * steps)      \n",
    "        if i == 0 or i == n:\n",
    "            y.append(f(x[-1]) / 2)\n",
    "        else:\n",
    "            y.append(f(x[-1]))\n",
    "        A += y[-1] * steps\n",
    "        pass\n",
    "    return A, [x, y]"
   ]
  },
  {
   "cell_type": "code",
   "execution_count": 133,
   "metadata": {},
   "outputs": [],
   "source": [
    "# Um die Implementation zu testen ist die Definition einer Funktion nötig\n",
    "# Als Beispiel nehmen wir die Fläche eines halben Einheitskreises da diese Fläche\n",
    "# auch ganz genau durch eine einfachere Formel bestimmt werden kann\n",
    "# was eine einfache Vergleichbarkeit ermöglicht\n",
    "# diese Funktion wird auch für die nachfolgenden Implementationen verwendet\n",
    "point = lambda x: np.sqrt(-x**2 + r**2)\n",
    "x = np.linspace(-r, r, 100000)\n",
    "y = [point(p) for p in x]"
   ]
  },
  {
   "cell_type": "code",
   "execution_count": 148,
   "metadata": {},
   "outputs": [
    {
     "data": {
      "image/png": "[encoded data removed]",
      "text/plain": [
       "<Figure size 432x288 with 1 Axes>"
      ]
     },
     "metadata": {
      "needs_background": "light"
     },
     "output_type": "display_data"
    },
    {
     "data": {
      "text/html": [
       "<div>\n",
       "<style scoped>\n",
       "    .dataframe tbody tr th:only-of-type {\n",
       "        vertical-align: middle;\n",
       "    }\n",
       "\n",
       "    .dataframe tbody tr th {\n",
       "        vertical-align: top;\n",
       "    }\n",
       "\n",
       "    .dataframe thead th {\n",
       "        text-align: right;\n",
       "    }\n",
       "</style>\n",
       "<table border=\"1\" class=\"dataframe\">\n",
       "  <thead>\n",
       "    <tr style=\"text-align: right;\">\n",
       "      <th></th>\n",
       "      <th>Wert</th>\n",
       "      <th>Genauigkeit</th>\n",
       "    </tr>\n",
       "  </thead>\n",
       "  <tbody>\n",
       "    <tr>\n",
       "      <th>0</th>\n",
       "      <td>1.570796</td>\n",
       "      <td>Exakt</td>\n",
       "    </tr>\n",
       "    <tr>\n",
       "      <th>1</th>\n",
       "      <td>1.518524</td>\n",
       "      <td>96.672%</td>\n",
       "    </tr>\n",
       "    <tr>\n",
       "      <th>2</th>\n",
       "      <td>1.569134</td>\n",
       "      <td>99.894%</td>\n",
       "    </tr>\n",
       "    <tr>\n",
       "      <th>3</th>\n",
       "      <td>1.570744</td>\n",
       "      <td>99.997%</td>\n",
       "    </tr>\n",
       "  </tbody>\n",
       "</table>\n",
       "</div>"
      ],
      "text/plain": [
       "       Wert Genauigkeit\n",
       "0  1.570796       Exakt\n",
       "1  1.518524     96.672%\n",
       "2  1.569134     99.894%\n",
       "3  1.570744     99.997%"
      ]
     },
     "metadata": {},
     "output_type": "display_data"
    }
   ],
   "source": [
    "# Dies ist nun ein Beispiel der oben definierten Funktion\n",
    "\n",
    "table = []\n",
    "\n",
    "# Exakter Wert\n",
    "A_E = (r**2 * np.pi) / 2\n",
    "table.append([A_E, 'Exakt'])\n",
    "\n",
    "# n = 10\n",
    "A, course = sekanten_trapez_regel(py, -r, r, 10)\n",
    "plt.plot(course[0], course[1], label='n=10')\n",
    "table.append([A, f'{round(A / A_E * 100, 3)}%'])\n",
    "# n = 100\n",
    "A, course = sekanten_trapez_regel(py, -r, r, 100)\n",
    "plt.plot(course[0], course[1], label='n=100')\n",
    "table.append([A, f'{round(A / A_E * 100, 3)}%'])\n",
    "# n = 1000\n",
    "A, course = sekanten_trapez_regel(py, -r, r, 1000)\n",
    "plt.plot(course[0], course[1], label='n=1000')\n",
    "table.append([A, f'{round(A / A_E * 100, 3)}%'])\n",
    "\n",
    "plt.plot(x, y, 'b', label='Exakt')\n",
    "plt.legend()\n",
    "plt.show()\n",
    "\n",
    "display(pd.DataFrame(table, columns=[\"Wert\", \"Genauigkeit\"]))"
   ]
  },
  {
   "cell_type": "markdown",
   "metadata": {},
   "source": [
    "Die Obere Grafik zeigt einen Ausschnitt des Halbkreises welcher integriert wird. Die dunkelblaue Linie zeigt den exakten Verlauf. Bereits schon ab n = 100 ist der Verlauf der Integration nicht mehr sichtbar da die Genauigkeit schon bei 99.89% liegt. In der allgemeinen Formel wird x_0 und x_n durch 2 geteilt. Ist n aber genügend gross hat das praktisch keinen Einfluss mehr auf die Genauigkeit."
   ]
  },
  {
   "cell_type": "markdown",
   "metadata": {},
   "source": [
    "## Tangententrapezregel\n",
    "\n",
    "Bei der Tangententrapezregel wird die Annäherung ähnlich wie bei der Sehnentrapezregel durch durch Trapeze umgesetzt. Allerdings wird hier als obere schräge Seite die Mitte eines Trapezes genommen.\n",
    "\n",
    "![Tangenten_Trapez_1](img/tangententrapez_1.png)\n",
    "\n",
    "Der Flächeninhalt des Trapezes kann durch folgende Formel bestimmt werden:\n",
    "\n",
    "\\begin{equation}\n",
    "    TT_{1} = (b-a) * f(\\frac{a+b}{2})\n",
    "\\end{equation}\n",
    "\n",
    "Um nun die Fläche genauer zu bestimmen wird wieder der Bereich von a -> b in n Streifen aufgeteilt. Um dann die gesamte Fläche zu bestimmen, wird wieder die Fläche jedes einzelnen Trapezes gerechnet und dann daraus die Summe gebildet. Nachfolgend nun die allgemeine Tangententrapezformel:\n",
    "\n",
    "\\begin{equation}\n",
    "    A = \\frac{b-a}{n}  * (f(\\frac{x_{0} + x_{1}}{2}) + f(\\frac{x_{1} + x_{2}}{2})\\;+\\;...\\;+\\;f(\\frac{x_{n-1} + x_{n}}{2}))\n",
    "\\end{equation}\n",
    "\n",
    "Nun folgt die Implementierung dieser Formel in Python."
   ]
  },
  {
   "cell_type": "code",
   "execution_count": 165,
   "metadata": {},
   "outputs": [],
   "source": [
    "def tangenten_trapez_regel(f, a, b, n):\n",
    "    A, x, y = 0, [], []\n",
    "    steps = (b - a) / n\n",
    "    for i in range(0, n + 1):\n",
    "        x.append(a + i * steps)\n",
    "        if i > 0 and i != n:\n",
    "            y.append(f((x[-1] + x[-2]) / 2))\n",
    "        else:\n",
    "            y.append(f(x[-1]))\n",
    "        A += y[-1] * steps\n",
    "        pass\n",
    "    return A, [x, y]"
   ]
  },
  {
   "cell_type": "code",
   "execution_count": 167,
   "metadata": {},
   "outputs": [
    {
     "data": {
      "image/png": "[encoded data removed]",
      "text/plain": [
       "<Figure size 432x288 with 1 Axes>"
      ]
     },
     "metadata": {
      "needs_background": "light"
     },
     "output_type": "display_data"
    },
    {
     "data": {
      "text/html": [
       "<div>\n",
       "<style scoped>\n",
       "    .dataframe tbody tr th:only-of-type {\n",
       "        vertical-align: middle;\n",
       "    }\n",
       "\n",
       "    .dataframe tbody tr th {\n",
       "        vertical-align: top;\n",
       "    }\n",
       "\n",
       "    .dataframe thead th {\n",
       "        text-align: right;\n",
       "    }\n",
       "</style>\n",
       "<table border=\"1\" class=\"dataframe\">\n",
       "  <thead>\n",
       "    <tr style=\"text-align: right;\">\n",
       "      <th></th>\n",
       "      <th>Wert</th>\n",
       "      <th>Genauigkeit</th>\n",
       "    </tr>\n",
       "  </thead>\n",
       "  <tbody>\n",
       "    <tr>\n",
       "      <th>0</th>\n",
       "      <td>1.570796</td>\n",
       "      <td>Exakt</td>\n",
       "    </tr>\n",
       "    <tr>\n",
       "      <th>1</th>\n",
       "      <td>1.498816</td>\n",
       "      <td>95.418%</td>\n",
       "    </tr>\n",
       "    <tr>\n",
       "      <th>2</th>\n",
       "      <td>1.568461</td>\n",
       "      <td>99.851%</td>\n",
       "    </tr>\n",
       "    <tr>\n",
       "      <th>3</th>\n",
       "      <td>1.570722</td>\n",
       "      <td>99.995%</td>\n",
       "    </tr>\n",
       "  </tbody>\n",
       "</table>\n",
       "</div>"
      ],
      "text/plain": [
       "       Wert Genauigkeit\n",
       "0  1.570796       Exakt\n",
       "1  1.498816     95.418%\n",
       "2  1.568461     99.851%\n",
       "3  1.570722     99.995%"
      ]
     },
     "metadata": {},
     "output_type": "display_data"
    }
   ],
   "source": [
    "# Dies ist nun ein Beispiel der oben definierten Funktion\n",
    "\n",
    "table = []\n",
    "\n",
    "# Exakter Wert\n",
    "A_E = (r**2 * np.pi) / 2\n",
    "table.append([A_E, 'Exakt'])\n",
    "\n",
    "# n = 10\n",
    "A, course = tangenten_trapez_regel(py, -r, r, 10)\n",
    "plt.plot(course[0], course[1], label='n=10')\n",
    "table.append([A, f'{round(A / A_E * 100, 3)}%'])\n",
    "# n = 100\n",
    "A, course = tangenten_trapez_regel(py, -r, r, 100)\n",
    "plt.plot(course[0], course[1], label='n=100')\n",
    "table.append([A, f'{round(A / A_E * 100, 3)}%'])\n",
    "# n = 1000\n",
    "A, course = tangenten_trapez_regel(py, -r, r, 1000)\n",
    "plt.plot(course[0], course[1], label='n=1000')\n",
    "table.append([A, f'{round(A / A_E * 100, 3)}%'])\n",
    "\n",
    "plt.plot(x, y, 'b', label='Exakt')\n",
    "plt.legend()\n",
    "plt.show()\n",
    "\n",
    "display(pd.DataFrame(table, columns=[\"Wert\", \"Genauigkeit\"]))"
   ]
  },
  {
   "cell_type": "markdown",
   "metadata": {},
   "source": []
  },
  {
   "cell_type": "markdown",
   "metadata": {},
   "source": [
    "## Reflexion & Einschätzung\n",
    "\n",
    "Wie oben gezeigt bieten die vorgestellten Pakete oder Bibliotheken extrem viele Möglichkeiten Daten zu visualisieren. Nicht alle Darstellungsformen machen für alle Daten Sinn daher ist es wichtig die Darstellungsform immer auf die Daten und die daraus zu gewinnenden Daten abzustimmen. Matplotlib ist in Kombination mit Numpy extrem effizient und sehr einfach zu handhaben. Meiner persönlichen Meinung dienen diese Pakete in Kombination als eine Alternative für die Programmiersprache R welche sehr ähnliche Möglichkeiten bietet. Auch ist es sehr wertvoll bestimmte Themen noch einmal programmatisch zu visualisieren. Dazu zählen auch die Laufzeitklassen welche durch das in einem oberen Kapitel erstellten Diagramm extrem gut sichtbar gemacht werden konnten. Auch bietet die Programmiersprache Python sehr viele sprachliche Besonderheiten welche es extrem einfach machen mit Listen zu arbeiten. Die Standarddarstellung der Graphen ist nicht immer extrem aussagekräftig. Daher ist es eigentlich immer nötig diese den eigenen Bedürfnissen anzupassen. Dazu gehört das Anpassen der Farben oder auch das Sortieren der Daten damit sie schlussendlich mehr Sinn ergeben.\n",
    "\n",
    "‎\n",
    "\n",
    "‎\n",
    "\n",
    "‎\n",
    "\n",
    "‎\n",
    "\n",
    "‎\n",
    "\n",
    "‎"
   ]
  },
  {
   "cell_type": "markdown",
   "metadata": {},
   "source": [
    "## Verweise\n",
    "\n",
    "https://de.wikipedia.org/wiki/Riemannsches_Integral\n",
    "\n",
    "https://www.math.ubc.ca/~pwalls/math-python/integration/riemann-sums/\n",
    "\n",
    "https://de.wikipedia.org/wiki/Trapezregel\n",
    "\n",
    "https://www.mathe-seite.de/oberstufe/analysis-tiefere-einblicke/naehrungsverfahren/trapezregel/\n",
    "\n",
    "https://mathepedia.de/Trapezregel.html\n",
    "\n",
    "\n",
    "\n",
    "\n",
    "\n",
    "\n",
    "\n",
    "\n",
    "* [1]: [https://github.com/adam-p/markdown-here/wiki/Markdown-Cheatsheet](https://github.com/adam-p/markdown-here/wiki/Markdown-Cheatsheet)\n",
    "* [2]: [https://pythonbasics.org/matplotlib-line-chart/](https://pythonbasics.org/matplotlib-line-chart/)\n",
    "* [3]: [https://de.wikipedia.org/wiki/Landau-Symbole](https://de.wikipedia.org/wiki/Landau-Symbole)\n",
    "* [4]: [https://bodo-schoenfeld.de/jupyter-notebook-balkendiagramm-erstellen/](https://bodo-schoenfeld.de/jupyter-notebook-balkendiagramm-erstellen/)\n",
    "* [5]: Findeisen, P. Die Charakterisierung der Normalverteilung nach Gauß. Metrika 29, 55–63 (1982). [https://doi.org/10.1007/BF01893364](https://doi.org/10.1007/BF01893364)\n",
    "* [6]: [https://www.parkmycloud.com/blog/aws-vs-azure-vs-google-cloud-market-share/](https://www.parkmycloud.com/blog/aws-vs-azure-vs-google-cloud-market-share/)"
   ]
  },
  {
   "cell_type": "code",
   "execution_count": null,
   "metadata": {},
   "outputs": [],
   "source": []
  }
 ],
 "metadata": {
  "date": "01.02.1996",
  "kernelspec": {
   "display_name": "Python 3",
   "language": "python",
   "name": "python3"
  },
  "language_info": {
   "codemirror_mode": {
    "name": "ipython",
    "version": 3
   },
   "file_extension": ".py",
   "mimetype": "text/x-python",
   "name": "python",
   "nbconvert_exporter": "python",
   "pygments_lexer": "ipython3",
   "version": "3.7.6"
  },
  "title": "2. Semesterarbeit - Grafiken mit Matplotlib & Python"
 },
 "nbformat": 4,
 "nbformat_minor": 4
}
