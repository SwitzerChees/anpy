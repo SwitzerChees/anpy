{
 "cells": [
  {
   "cell_type": "markdown",
   "metadata": {},
   "source": [
    "| Autor       | Patrick Michel                                           |\n",
    "|-------------|----------------------------------------------------------|\n",
    "| 6. Semester | FFHS - Fernfachhochschule Schweiz                        |\n",
    "| Fach        | AnPy, Analysis mit Python, BSc INF 2017 Pas, BE1-I, FS20 |\n",
    "| Dozent      | Geuss Markus                                             |"
   ]
  },
  {
   "cell_type": "markdown",
   "metadata": {},
   "source": [
    "# Inhaltsverzeichnis\n",
    "\n",
    "* Einführung\n",
    "* Aufgabenstellung\n",
    "* Systemanforderungen\n",
    "* Riemann-Integral\n",
    "* Sehnentrapezregel\n",
    "* Tangententrapezregel\n",
    "* Simpsonsche Regel\n",
    "* Vermutung & Grenzwert\n",
    "* Genauigkeit der Approximationen\n",
    "* Reflexion & Einschätzung\n",
    "* Verweise"
   ]
  },
  {
   "cell_type": "markdown",
   "metadata": {},
   "source": [
    "# Einführung\n",
    "\n",
    "In dieser Arbeit geht es um das numerische Integrieren und somit Bestimmten von Flächen einer Funktion. Dies wird in einem theoretischen Teil beschrieben sowie exemplarisch mit der Programmiersprache Python umgesetzt."
   ]
  },
  {
   "cell_type": "markdown",
   "metadata": {},
   "source": [
    "## Aufgabenstellung\n",
    "\n",
    "1. Beschreiben Sie den Begriff des bestimmten Integrales.\n",
    "2. Beschreiben Sie die Sekantenzrapezregel, die Tangententrapezregel und die Simpsonsche Regel als Näherungsformel für zur Berechnung bestimmter Integrale.\n",
    "3. Erstellen Sie drei Python-Funktionen\n",
    "    * `sekanten_trapez_regel(f, a, b, n)`\n",
    "    * `tangenten_trapez_regel(f, a, b, n)`\n",
    "    * `simpson_regel(f, a, b, n)`\n",
    "    * zur Approximation des Integrals \n",
    "\\begin{equation}\n",
    "    \\int_{a}^{b} f(x)\\, dx\n",
    "\\end{equation}\n",
    "    * dabei steht n für die Anzahl Streifen (bzw Doppelstreifrn bei Simpson) in den Approximationen.\n",
    "4. Verwenden Sie die drei Approximationsregeln zur Bestimmung der folgenden Integrale (Varieren Sie dabei die Anzahl Streifen n):  \n",
    "    \n",
    "\\begin{equation}\n",
    "    \\int_{0}^{\\pi} sin(x)\\, dx\n",
    "\\end{equation}\n",
    "    \n",
    "\\begin{equation}\n",
    "    \\int_{-1}^{1} \\sqrt{1 - x^{2}}\\, dx\n",
    "\\end{equation}\n",
    "    \n",
    "\\begin{equation}\n",
    "    \\int_{0}^{1} x^{2}\\, dx\n",
    "\\end{equation}\n",
    "5. Stellen Sie Vermutungen auf, was beim Grenzwert n→∞ passiert.\n",
    "6. Überprüfen Sie Ihre Vermutungen mit Sympy.\n",
    "7. Vergleichen Sie die Genauigkeit der gemachten Approximationen."
   ]
  },
  {
   "cell_type": "markdown",
   "metadata": {},
   "source": [
    "## Systemanforderungen\n",
    "\n",
    "Folgende Voraussetzungen muss die Jupyter Umgebung erfüllen um alle nachfolgenden Codebeispiele ausführen zu können.\n",
    "\n",
    "* Python 3.7.x \n",
    "* Pip Packages\n",
    "    * Matplotlib\n",
    "    * Numpy\n",
    "    * SciPy\n",
    "    \n",
    "Um nachfolgend die Übersicht zu wahren wurden alle nötigen imports in die erste Sektion geholt. Für eine einfachere Handhabung wird der importierte pyplot der alias *plt* vergeben."
   ]
  },
  {
   "cell_type": "code",
   "execution_count": 1,
   "metadata": {},
   "outputs": [],
   "source": [
    "import matplotlib.pyplot as plt\n",
    "import numpy as np"
   ]
  },
  {
   "cell_type": "markdown",
   "metadata": {},
   "source": [
    "## Riemann-Integral\n",
    "\n",
    "Das Riemann Integral ist eine mathematische Methode zur Veranschaulichung des Flächeninhaltes zwischen dem Abschnitt einer x-Achse und dem Graphen einer Funktion.\n",
    "\n",
    "![Riemann_Integral](img/riemann_integral.png)\n",
    "\n",
    "Das Grundprinzip beruht auf dem Prinzip der Annäherung. Es wird zuerst ein Bereich auf der x-Achse den es zu integrieren gibt definiert. Im obigen Beispiel ist dieser Bereich von a -> b. Danach werden n Punkte welche in einem gleichen Abstand auf dem Funktionsverlauf liegen genommen und aus diesen dann gleich grosse Rechtecke erstellt. Daraus ergibt sich nun eine mehr oder weniger genau Abdeckung der Fläche dieser Funktion. Um die Fläche nun zu bestimmen kann man die Flächen der einzelnen Rechtecke summieren. Je grösser nun n wird also je kleiner die einzelnen Rechtecke werden desto genauer wird das Resultat in Bezug auf die tatsächliche Fläche. Wenn mann n nun an ∞ also den Grenzwert annähert kommt schlussendlich der exakte Wert der Fläche heraus. Doch je grösser n ist desto aufwändiger wird natürlich auch die Berechnung für den Computer. Ein Integral von hand zu bestimmen und berechnen ist theoretisch möglich doch macht durch den schnell wachsenden Aufwand keinen Sinn. Daher kann man das gut den Computern überlassen."
   ]
  },
  {
   "cell_type": "markdown",
   "metadata": {},
   "source": [
    "## Sehnentrapezregel\n",
    "\n",
    "Bei der Sehnentrapezregel wir die Annäherung durch durch Trapeze umgesetzt.\n",
    "\n",
    "![Sehnen_Trapez_1](img/sehnentrapez_1.png)\n",
    "\n",
    "Der Flächeninhalt des Sehnentrapezes kann durch folgende Formel bestimmt werden:\n",
    "\n",
    "\\begin{equation}\n",
    "    ST_{1} = (b-a) * \\frac{f(a) + f(b)}{2}\n",
    "\\end{equation}\n",
    "\n",
    "Um nun die Fläche genauer zu bestimmen wird wie beim Riemann Integral der Bereich von a -> b in n Sehnentrapeze aufgeteilt. Um dann die gesamte Fläche zu bestimmen, wird wieder die Fläche jedes einzelnen Sehnentrapezes gerechnet und dann daraus die Summe gebildet. Dies kann je nach Funktion schon eine sehr gute Näherung im Vergleich zu Rechtecken bringen. Nachfolgend nun die allgemeine Sehnentrapezformel:\n",
    "\n",
    "\\begin{equation}\n",
    "    A = \\frac{b-a}{n}  * (\\frac{f(x_{0})}{2} + f(x_{1}) + f(x_{0})\\;+\\;...\\;+\\;\\frac{f(x_{n})}{2})\n",
    "\\end{equation}\n",
    "\n",
    "Nun folgt die Implementierung dieser Formel in Python."
   ]
  },
  {
   "cell_type": "code",
   "execution_count": 30,
   "metadata": {},
   "outputs": [],
   "source": [
    "def sekanten_trapez_regel(f, a, b, n):\n",
    "    A = 0\n",
    "    steps = (b - a) / n\n",
    "    for i in range(0, n + 1):\n",
    "        if i == 0 or i == n:\n",
    "            A += f(a + i * steps) / 2\n",
    "            pass\n",
    "        else:\n",
    "            A += f(a + i * steps)\n",
    "            pass\n",
    "        pass\n",
    "    return A * steps"
   ]
  },
  {
   "cell_type": "code",
   "execution_count": 49,
   "metadata": {},
   "outputs": [
    {
     "name": "stdout",
     "output_type": "stream",
     "text": [
      "Exakter Wert: 1.5707963267948966\n",
      "n = 10: 1.5185244144417753, Genauigkeit: 96.672%\n",
      "n = 100: 1.5691342555492498, Genauigkeit: 99.894%\n",
      "n = 1000: 1.570743738501071, Genauigkeit: 99.997%\n"
     ]
    },
    {
     "data": {
      "image/png": "[encoded data removed]",
      "text/plain": [
       "<Figure size 432x288 with 1 Axes>"
      ]
     },
     "metadata": {
      "needs_background": "light"
     },
     "output_type": "display_data"
    }
   ],
   "source": [
    "# Dies ist nun ein Beispiel der oben definierten Funktion\n",
    "# Als Beispiel nehmen wir einen halben Kreis da diese Fläche\n",
    "# auch ganz genau durch eine einfachere Formel bestimmt werden kann\n",
    "# was eine einfache Vergleichbarkeit ermöglicht\n",
    "\n",
    "point = lambda x: np.sqrt(-x**2 + r**2)\n",
    "x = np.linspace(-r, r, 100)\n",
    "y = [point(p) for p in x]\n",
    "\n",
    "A_exact = (r**2 * np.pi) / 2\n",
    "print('Exakter Wert: ' + str(A_exact))\n",
    "\n",
    "def accuracy_attempt(n):\n",
    "    A = sekanten_trapez_regel(py, -r, r, n)\n",
    "    print(f'n = {n}: {A}, Genauigkeit: {round(A / A_exact * 100, 3)}%')\n",
    "    pass\n",
    "\n",
    "# n = 10\n",
    "accuracy_attempt(10)\n",
    "# n = 100\n",
    "accuracy_attempt(100)\n",
    "# n = 1000\n",
    "accuracy_attempt(1000)\n",
    "\n",
    "plt.plot(x, y)\n",
    "plt.show()"
   ]
  },
  {
   "cell_type": "markdown",
   "metadata": {},
   "source": [
    "## Reflexion & Einschätzung\n",
    "\n",
    "Wie oben gezeigt bieten die vorgestellten Pakete oder Bibliotheken extrem viele Möglichkeiten Daten zu visualisieren. Nicht alle Darstellungsformen machen für alle Daten Sinn daher ist es wichtig die Darstellungsform immer auf die Daten und die daraus zu gewinnenden Daten abzustimmen. Matplotlib ist in Kombination mit Numpy extrem effizient und sehr einfach zu handhaben. Meiner persönlichen Meinung dienen diese Pakete in Kombination als eine Alternative für die Programmiersprache R welche sehr ähnliche Möglichkeiten bietet. Auch ist es sehr wertvoll bestimmte Themen noch einmal programmatisch zu visualisieren. Dazu zählen auch die Laufzeitklassen welche durch das in einem oberen Kapitel erstellten Diagramm extrem gut sichtbar gemacht werden konnten. Auch bietet die Programmiersprache Python sehr viele sprachliche Besonderheiten welche es extrem einfach machen mit Listen zu arbeiten. Die Standarddarstellung der Graphen ist nicht immer extrem aussagekräftig. Daher ist es eigentlich immer nötig diese den eigenen Bedürfnissen anzupassen. Dazu gehört das Anpassen der Farben oder auch das Sortieren der Daten damit sie schlussendlich mehr Sinn ergeben.\n",
    "\n",
    "‎\n",
    "\n",
    "‎\n",
    "\n",
    "‎\n",
    "\n",
    "‎\n",
    "\n",
    "‎\n",
    "\n",
    "‎"
   ]
  },
  {
   "cell_type": "markdown",
   "metadata": {},
   "source": [
    "## Verweise\n",
    "\n",
    "https://de.wikipedia.org/wiki/Riemannsches_Integral\n",
    "\n",
    "https://www.math.ubc.ca/~pwalls/math-python/integration/riemann-sums/\n",
    "\n",
    "https://de.wikipedia.org/wiki/Trapezregel\n",
    "\n",
    "https://www.mathe-seite.de/oberstufe/analysis-tiefere-einblicke/naehrungsverfahren/trapezregel/\n",
    "\n",
    "* [1]: [https://github.com/adam-p/markdown-here/wiki/Markdown-Cheatsheet](https://github.com/adam-p/markdown-here/wiki/Markdown-Cheatsheet)\n",
    "* [2]: [https://pythonbasics.org/matplotlib-line-chart/](https://pythonbasics.org/matplotlib-line-chart/)\n",
    "* [3]: [https://de.wikipedia.org/wiki/Landau-Symbole](https://de.wikipedia.org/wiki/Landau-Symbole)\n",
    "* [4]: [https://bodo-schoenfeld.de/jupyter-notebook-balkendiagramm-erstellen/](https://bodo-schoenfeld.de/jupyter-notebook-balkendiagramm-erstellen/)\n",
    "* [5]: Findeisen, P. Die Charakterisierung der Normalverteilung nach Gauß. Metrika 29, 55–63 (1982). [https://doi.org/10.1007/BF01893364](https://doi.org/10.1007/BF01893364)\n",
    "* [6]: [https://www.parkmycloud.com/blog/aws-vs-azure-vs-google-cloud-market-share/](https://www.parkmycloud.com/blog/aws-vs-azure-vs-google-cloud-market-share/)"
   ]
  },
  {
   "cell_type": "code",
   "execution_count": null,
   "metadata": {},
   "outputs": [],
   "source": []
  }
 ],
 "metadata": {
  "date": "01.02.1996",
  "kernelspec": {
   "display_name": "Python 3",
   "language": "python",
   "name": "python3"
  },
  "language_info": {
   "codemirror_mode": {
    "name": "ipython",
    "version": 3
   },
   "file_extension": ".py",
   "mimetype": "text/x-python",
   "name": "python",
   "nbconvert_exporter": "python",
   "pygments_lexer": "ipython3",
   "version": "3.7.6"
  },
  "title": "2. Semesterarbeit - Grafiken mit Matplotlib & Python"
 },
 "nbformat": 4,
 "nbformat_minor": 4
}
